{
 "cells": [
  {
   "cell_type": "markdown",
   "metadata": {},
   "source": [
    "<style TYPE=\"text/css\">\n",
    "code.has-jax {font: inherit; font-size: 100%; background: inherit; border: inherit;}\n",
    "</style>\n",
    "<script type=\"text/x-mathjax-config\">\n",
    "MathJax.Hub.Config({\n",
    "    tex2jax: {\n",
    "        inlineMath: [['$','$'], ['\\\\(','\\\\)']],\n",
    "        skipTags: ['script', 'noscript', 'style', 'textarea', 'pre'] // removed 'code' entry\n",
    "    }\n",
    "});\n",
    "MathJax.Hub.Queue(function() {\n",
    "    var all = MathJax.Hub.getAllJax(), i;\n",
    "    for(i = 0; i < all.length; i += 1) {\n",
    "        all[i].SourceElement().parentNode.className += ' has-jax';\n",
    "    }\n",
    "});\n",
    "</script>\n",
    "<script type=\"text/javascript\" src=\"http://cdn.mathjax.org/mathjax/latest/MathJax.js?config=TeX-AMS-MML_HTMLorMML\"></script>"
   ]
  },
  {
   "cell_type": "markdown",
   "metadata": {},
   "source": [
    "## Notation\n",
    "\n",
    "* Let each data point, $ x_i $ consist of $ d $ features. Therefore each $ \\quad x_i  \\in  \\! \\mathbb{R}^{d} $\n",
    "\n",
    "\n",
    "* Let our target label, $ y_i $ be binary (binary classification) or a real valued number (regression).  Therefore $ \\quad y_i  \\in  \\! \\{0, 1\\} $ or $ \\mathbb{R} $\n",
    "\n",
    "\n",
    "* Let us have $m$ tuples of $ (x_i, y_i) $\n",
    "\n",
    "\n",
    "* Therefore Data Inputs, X is of the shape $(m, d)$\n",
    "\n",
    "\n",
    "* And y is of the shape $(m, 1)$"
   ]
  },
  {
   "cell_type": "markdown",
   "metadata": {},
   "source": [
    "## Perceptron\n",
    "\n",
    "\n",
    "\n",
    "* Fundamental units of neural network \n",
    "\n",
    "\n",
    "* Are able to separate any linear separable data\n",
    "\n",
    "\n",
    "* $ \\hat{y} = \\phi (X.W + b) $ where $ \\phi(x) = 0 $ if $ x < 0 $ else $ \\phi(x) = 1 $\n",
    "\n",
    "![Alt](Perceptron.png \"Perceptron\")\n",
    " "
   ]
  },
  {
   "cell_type": "markdown",
   "metadata": {},
   "source": [
    "## Multilayer Perceptron\n",
    "\n",
    "\n",
    "* Stacks of Perceptrons forms a layer\n",
    "\n",
    "\n",
    "* Multiple such layers form a Multi Layer Perceptron or a Neural Network. \n",
    "\n",
    "\n",
    "* Output is computed in a series of steps which is called forward propagation\n",
    "\n",
    "![Alt](Neural Network.png \"Perceptron\")"
   ]
  },
  {
   "cell_type": "markdown",
   "metadata": {},
   "source": [
    "## More notation\n",
    "\n",
    "* A neural network is said of have **L** layers if\n",
    "    * **1**         Input layer, \n",
    "    * **L - 1**     Hidden layer,\n",
    "    * **1**         Output layer\n",
    "\n",
    "\n",
    "* The parameters of the Neural Network (which are learnt from the data) are called the **weights** and the **biases**.\n",
    "\n",
    "\n",
    "\n",
    "* The weights between layer $ l-1 $ and layer $ l $ are represented by $ W^{[l]} $ and the biases are represented by $ b ^ {[l]}$ \n",
    "\n",
    "\n",
    "\n",
    "* Each \"neuron\" in the hidden and the output layer can be decomposed into $ z $ and $ a $. The neurons of the next layer are calculated from the previous ones by using the following equations.\n",
    "\n",
    "$$ z^{[l]} = a^{[l-1]} . W^{[l]} + b^{[l]} $$\n",
    "\n",
    "$$ a^{[l]} = f(z^{[l]}) $$\n",
    "\n",
    "\n",
    "* Here, $ f $ is any non linearity (sigmoid, relu, leaky-relu, tanh, etc.)\n",
    "\n",
    "\n",
    "* Convention:\n",
    "\n",
    "$$ a^{[0]} = X $$\n",
    "\n",
    "$$ a^{[L]} = \\hat{y} $$\n"
   ]
  },
  {
   "cell_type": "markdown",
   "metadata": {},
   "source": [
    "## Dimensions\n",
    "\n",
    "\n",
    "* Let the dimension of layer $ l $ be $ s^{[l]} $. By dimension of a layer we mean the number of neurons in the layer.\n",
    "\n",
    "\n",
    "* The dimension of $ W^{[l]} $ is given by $ (s^{[l-1]}, s^{[l]}) $ and of $ b^{[l]} $ is given by $(1, s^{[l]})$"
   ]
  },
  {
   "cell_type": "markdown",
   "metadata": {},
   "source": [
    "## Sanity check\n",
    "\n",
    "$$ z^{[l]} = a^{[l-1]} . W^{[l]} + b^{[l]} $$\n",
    "\n",
    "\n",
    "* Consider the above equation. Are the shape of the left hand side and the right hand the same?\n",
    "\n",
    "\n",
    "\n",
    "* When you multiply $ a^{[l-1]} . W^{[l]} $ the shape of the resultant matrix is that when you multiply $ (m, s^{[l-1]}) $ and $ (s^{[l-1]}, s^{[l]}) $ which is  $ (m, s^{[l]}) $.\n",
    "\n",
    "\n",
    "* Now when you add $ b^{[l]} $ a vector of shape $ (1, s^{[l]}) $ numpy (and tensorflow) broadcasts it into the other dimension. It basically copies $ b^{[l]} \\; m $ times add then adds to the matrix product and hence the final result has a size of $ (m, s^{[l]}) $"
   ]
  },
  {
   "cell_type": "markdown",
   "metadata": {},
   "source": [
    "## Forward Propagation\n",
    "\n",
    "* For loop over the layers so as to calculate the activations of intermediate layers.\n",
    "\n",
    "\n",
    "\n",
    "* For l = 1 to L do:\n",
    "    * $ z^{[l]} = a^{[l-1]} . W^{[l]} + b^{[l]} $\n",
    "\n",
    "    * $ a^{[l]} = f(z^{[l]}) $"
   ]
  },
  {
   "cell_type": "markdown",
   "metadata": {},
   "source": [
    "## TRAINING"
   ]
  },
  {
   "cell_type": "markdown",
   "metadata": {},
   "source": [
    "## (Mini)Batch Gradient Descent\n",
    "\n",
    "* Mean Square Error: \n",
    "    * When optimizing using stochastic gradient descent, one calculates the error term for one particular instance (say with index $i$)\n",
    "    \n",
    "        $$ J_i(y_i, \\hat{y}_i) = \\frac{1}{2} * (y_i - \\hat{y}_i) ^ {2} $$\n",
    "    \n",
    "    * A random instance isn't always a good estimate of the gradient, so we use some ( > 1) or all (m) of the instances and calculate the error value\n",
    "    \n",
    "        $$ J =  \\frac{1}{m} * \\sum_{i=1}^{m}{J_i} $$\n",
    "\n",
    "* Gradient update rule:\n",
    "    * Stochastic:\n",
    "    \n",
    "        $$ \\theta_t = \\theta_{t-1} - \\eta* \\nabla_\\theta J_i $$\n",
    "    \n",
    "    * (Mini)Batch:\n",
    "    \n",
    "        $$ \\theta_t = \\theta_{t-1} - \\eta* \\nabla_\\theta J = \\theta_{t-1} - \\eta* \\nabla_\\theta{\\frac{1}{m} * \\sum_{i=1}^{m}{J_i}} = \\theta_{t-1} - \\frac{\\eta}{m} * \\sum_{i=1}^{m}{\\nabla_\\theta{J_i}} $$"
   ]
  },
  {
   "cell_type": "markdown",
   "metadata": {},
   "source": [
    "## Derivative wrt $ \\hat{y}$\n",
    "\n",
    "\n",
    "* Required for back propagation  $$ \\frac{\\partial J}{\\partial \\hat{y}} = \\frac{\\partial J}{\\partial a^{[L]}} $$\n",
    "\n",
    "\n",
    "* Often a very simple vector. For example, when J is MSE, $$ \\frac{\\partial J}{\\partial \\hat{y}} = \\frac{1}{m}* (\\hat{y} - y) $$\n",
    "\n",
    "\n",
    "* Derivation:\n",
    "\n",
    "\n",
    "$$ \\frac{\\partial J}{\\partial \\hat{y}} = \\Big(\\frac{\\partial J}{\\partial \\hat{y}_1}, \\; \\frac{\\partial J}{\\partial \\hat{y}_2}, . \\; . \\;. ,\\; \\frac{\\partial J}{\\partial \\hat{y}_m}\\Big) $$\n",
    "\n",
    "\n",
    " $$ \\frac{\\partial J}{\\partial \\hat{y}} = \\Big(\\frac{1}{m}*\\frac{\\partial J_1}{\\partial \\hat{y}_1}, \\; \\frac{1}{m}*\\frac{\\partial J_2}{\\partial \\hat{y}_2}, . \\; . \\;. , \\; \\frac{1}{m}*\\frac{\\partial J_m}{\\partial \\hat{y}_m}\\Big) $$\n",
    "\n",
    "\n",
    "$$ \\frac{\\partial J}{\\partial \\hat{y}} = \\Big(\\frac{1}{m}*(\\hat{y}_1 - y_1), \\; \\frac{1}{m}*(\\hat{y}_2 - y_2), . \\; . \\;. , \\; \\frac{1}{m}*(\\hat{y}_m - y_m)\\Big) $$\n",
    "\n",
    "\n",
    "$$ \\frac{\\partial J}{\\partial \\hat{y}} = \\frac{1}{m}* (\\hat{y} - y) $$"
   ]
  },
  {
   "cell_type": "markdown",
   "metadata": {},
   "source": [
    "## Deriving Back Propagation for Single Input Instance\n",
    "\n",
    "* $ m = 1 $\n",
    "\n",
    "\n",
    "* Consider the following equation: $ z^{[l]} = a^{[l-1]} . W^{[l]} + b^{[l]} $\n",
    "\n",
    "\n",
    "* For simplicity, $ z = a . W + b $\n",
    "\n",
    "\n",
    "* Dimensions: $ z: (1, q) \\quad a: (1, p) \\quad W: (p, q) \\quad b: (1, q) $\n",
    "\n",
    "\n",
    "* Therefore, $z_i = \\sum_{j=1}^{q}{(a_j*W_{j i})} + b_i = a.w_{:, i}^{T} + b_i$\n",
    "\n",
    "\n",
    "* Assume you know, $$ \\delta = \\frac{\\partial J}{\\partial z} = \\Big(\\frac{\\partial J}{\\partial z_1}, \\; \\frac{\\partial J}{\\partial z_2}, . \\; . \\;. ,\\; \\frac{\\partial J}{\\partial z_q}\\Big) $$\n",
    "\n",
    "\n",
    "* $$ \\frac{\\partial J}{\\partial b} = \\Big(\\frac{\\partial J}{\\partial b_1}, \\; \\frac{\\partial J}{\\partial b_2}, . \\; . \\;. ,\\; \\frac{\\partial J}{\\partial b_q}\\Big) $$\n",
    "\n",
    "$$ \\frac{\\partial J}{\\partial b} = \\Big(\\frac{\\partial J}{\\partial z_1} * \\frac{\\partial z_1}{\\partial b_1}, \\; \\frac{\\partial J}{\\partial z_2}*\\frac{\\partial z_2}{\\partial b_2}, . \\; . \\;. ,\\; \\frac{\\partial J}{\\partial z_q}*\\frac{\\partial z_q}{\\partial b_q}\\Big) $$\n",
    "\n",
    "$$ \\frac{\\partial J}{\\partial b} = \\Big(\\frac{\\partial J}{\\partial z_1} * 1, \\; \\frac{\\partial J}{\\partial z_2}*1, . \\; . \\;. ,\\; \\frac{\\partial J}{\\partial z_q}*1\\Big) $$\n",
    "\n",
    "$$ \\frac{\\partial J}{\\partial b} = \\delta $$"
   ]
  },
  {
   "cell_type": "markdown",
   "metadata": {},
   "source": [
    "## Back Propagation Algorithm for Batch Inputs\n",
    "\n",
    "\n",
    "\n",
    "* Based on the chain rule of differentiation\n",
    "\n",
    "\n",
    "\n",
    "* Notation: $$ \\delta^{[l]} = \\frac{\\partial J}{\\partial z^{[l]}} $$ \n",
    "\n",
    "\n",
    "* We know:\n",
    " $$ \\delta^{[L]} = \\frac{\\partial J}{\\partial a^{[L]}}  \\frac{\\partial a^{[L]}}{\\partial z^{[L]}} = \\frac{\\partial J}{\\partial a^{[L]}} \\circ f^{'}(z^{[L]})$$\n",
    "\n",
    "* FOR $l = L$ down to $1$:\n",
    "    * $$ dW^{[l]} = \\frac{\\partial J}{\\partial W^{[l]}} =  \\frac{\\partial J}{\\partial z^{[l]}} \\frac{\\partial z^{[l]}}{\\partial W^{[l]}} = (a^{[l-1]})^{T}.\\delta^{[l]}$$\n",
    "    * $$ db^{[l]} = \\frac{\\partial J}{\\partial b^{[l]}} = \\frac{\\partial J}{\\partial z^{[l]}} \\frac{\\partial z^{[l]}}{\\partial b^{[l]}} = \\sum_{i=1}^{m}{\\delta^{[l]}_{(i:)}}$$\n",
    "    * $$ da^{[l-1]} = \\frac{\\partial J}{\\partial a^{[l-1]}} = \\frac{\\partial J}{\\partial z^{[l]}} \\frac{\\partial z^{[l]}}{\\partial a^{[l-1]}} = \\delta^{[l]}.(W^{[l]})^{T} $$\n",
    "    * $$ \\delta^{[l-1]} = \\frac{\\partial J}{\\partial z^{[l-1]}} = \\frac{\\partial J}{\\partial a^{[l-1]}}\\frac{\\partial a^{[l-1]}}{\\partial z^{[l-1]}} = \\frac{\\partial J}{\\partial a^{[l-1]}} \\circ f^{'}(z^{[l-1]}) $$"
   ]
  },
  {
   "cell_type": "markdown",
   "metadata": {},
   "source": [
    "## CODE\n",
    "\n",
    "#### Inspired from Andrew Ng's first course in Deep Learning Specialization"
   ]
  },
  {
   "cell_type": "code",
   "execution_count": 1,
   "metadata": {
    "collapsed": true
   },
   "outputs": [],
   "source": [
    "import numpy as np\n",
    "import matplotlib.pyplot as plt\n",
    "%matplotlib inline"
   ]
  },
  {
   "cell_type": "markdown",
   "metadata": {},
   "source": [
    "## Task: Regression"
   ]
  },
  {
   "cell_type": "markdown",
   "metadata": {},
   "source": [
    "### Dataset"
   ]
  },
  {
   "cell_type": "code",
   "execution_count": 2,
   "metadata": {
    "collapsed": true
   },
   "outputs": [],
   "source": [
    "x = np.linspace(-1, 1, 400).reshape(400, 1)\n",
    "y = (0.2*np.log(1 + np.exp(x)) - 2*x**2 + 0.5*np.exp(x) + 4*x**3).reshape(400, 1)"
   ]
  },
  {
   "cell_type": "code",
   "execution_count": 3,
   "metadata": {},
   "outputs": [
    {
     "data": {
      "text/plain": [
       "[<matplotlib.lines.Line2D at 0x7fdb4b57fcf8>]"
      ]
     },
     "execution_count": 3,
     "metadata": {},
     "output_type": "execute_result"
    },
    {
     "data": {
      "image/png": "[encoded data removed]",
      "text/plain": [
       "<matplotlib.figure.Figure at 0x7fdb742c4400>"
      ]
     },
     "metadata": {},
     "output_type": "display_data"
    }
   ],
   "source": [
    "plt.plot(x, y)"
   ]
  },
  {
   "cell_type": "markdown",
   "metadata": {},
   "source": [
    "### Scaling \n",
    "\n",
    "* Scale the $y$ to be in between [-1, 1].\n",
    "\n",
    "* Usually techniques like min-max scaling are used. Here, lets just divide y by $ max \\; |y| $ i.e $ 6 $"
   ]
  },
  {
   "cell_type": "code",
   "execution_count": 4,
   "metadata": {},
   "outputs": [
    {
     "data": {
      "text/plain": [
       "[<matplotlib.lines.Line2D at 0x7fdb4b4ab2b0>]"
      ]
     },
     "execution_count": 4,
     "metadata": {},
     "output_type": "execute_result"
    },
    {
     "data": {
      "image/png": "[encoded data removed]",
      "text/plain": [
       "<matplotlib.figure.Figure at 0x7fdb4b56a6a0>"
      ]
     },
     "metadata": {},
     "output_type": "display_data"
    }
   ],
   "source": [
    "y /= 6\n",
    "plt.plot(x, y)"
   ]
  },
  {
   "cell_type": "markdown",
   "metadata": {},
   "source": [
    "### The above line is what we desire. We have been give noisy training data."
   ]
  },
  {
   "cell_type": "code",
   "execution_count": 5,
   "metadata": {
    "collapsed": true
   },
   "outputs": [],
   "source": [
    "x_data = x\n",
    "y_data = (y + 0.1*np.random.randn(y.shape[0], y.shape[1]))"
   ]
  },
  {
   "cell_type": "code",
   "execution_count": 6,
   "metadata": {},
   "outputs": [
    {
     "data": {
      "text/plain": [
       "<matplotlib.collections.PathCollection at 0x7fdb4b423320>"
      ]
     },
     "execution_count": 6,
     "metadata": {},
     "output_type": "execute_result"
    },
    {
     "data": {
      "image/png": "[encoded data removed]",
      "text/plain": [
       "<matplotlib.figure.Figure at 0x7fdb4b487390>"
      ]
     },
     "metadata": {},
     "output_type": "display_data"
    }
   ],
   "source": [
    "plt.scatter(x_data, y_data)"
   ]
  },
  {
   "cell_type": "markdown",
   "metadata": {},
   "source": [
    "## Model: MLP"
   ]
  },
  {
   "cell_type": "markdown",
   "metadata": {},
   "source": [
    "### Initialise the parameters (using He initialization). \n",
    "\n",
    "* Random initialization v/s he initialization: \n",
    "    * https://towardsdatascience.com/random-initialization-for-neural-networks-a-thing-of-the-past-bfcdd806bf9e\n",
    "\n",
    "\n",
    "* $ W^{[l]} \\sim \\mathcal{N}. (s^{[l-1]},s^{[l]}) *\\sqrt{\\frac{2}{s^{[l-1]}}} $\n",
    "\n",
    "* $ b^{[l]} = Zeros(1, s^{[l]})$"
   ]
  },
  {
   "cell_type": "code",
   "execution_count": 7,
   "metadata": {
    "collapsed": true
   },
   "outputs": [],
   "source": [
    "def initialize_parameters(layer_dims): \n",
    "    np.random.seed(3)\n",
    "    parameters = {}\n",
    "    L = len(layer_dims)            # number of layers in the network\n",
    "    \n",
    "    ## He initialization\n",
    "    for l in range(1, L):\n",
    "        parameters['W' + str(l)] = np.random.randn(layer_dims[l-1], layer_dims[l]) \\\n",
    "        * np.sqrt(2.0 / layer_dims[l - 1])\n",
    "        parameters['b' + str(l)] = np.zeros((1, layer_dims[l]))\n",
    "        \n",
    "        assert(parameters['W' + str(l)].shape == (layer_dims[l-1], layer_dims[l]))\n",
    "        assert(parameters['b' + str(l)].shape == (1, layer_dims[l]))\n",
    "        \n",
    "    return parameters"
   ]
  },
  {
   "cell_type": "markdown",
   "metadata": {},
   "source": [
    "### Forward Propagation"
   ]
  },
  {
   "cell_type": "markdown",
   "metadata": {},
   "source": [
    "* Define a cache to be a two tuple\n",
    "\n",
    "* Need it to perform back propagation \n",
    "\n",
    "* cache = (linear cache, activation cache)\n",
    "\n",
    "* linear_cache: $ \\; (a^{[l-1]}, W^{[l]}, b^{[l]}) $\n",
    "\n",
    "* activation_cache: $ \\; {z^{[l]}} $"
   ]
  },
  {
   "cell_type": "code",
   "execution_count": 8,
   "metadata": {
    "collapsed": true
   },
   "outputs": [],
   "source": [
    "def relu(Z):\n",
    "    return np.maximum(0, Z)\n",
    "\n",
    "## Inputs: Previous layer activation (A), Weights and biases.\n",
    "def linear_activation_forward(A, W, b, activation):\n",
    "    \n",
    "    # Calculate Z \n",
    "    Z_next = np.dot(A, W) + b\n",
    "    \n",
    "    # Define Linear and Activation Cache\n",
    "    linear_cache = (A, W, b)\n",
    "    activation_cache = Z_next\n",
    "    cache = (linear_cache, activation_cache)\n",
    "    \n",
    "    if activation is not None:\n",
    "        A_next = activation(Z_next)\n",
    "    else:\n",
    "        A_next = Z_next\n",
    "    \n",
    "    assert(Z_next.shape == (A.shape[0], W.shape[1]))\n",
    "    assert(A_next.shape == Z_next.shape)\n",
    "    \n",
    "    \n",
    "    return A_next, cache\n",
    "\n",
    "## Iterate through all the layers using linear_activation_forward\n",
    "def L_model_forward(X, parameters, activation):\n",
    "    caches = []\n",
    "    ## What is A^[0]\n",
    "    A = X\n",
    "    L = len(parameters) // 2                  # number of layers in the neural network\n",
    "    \n",
    "    for l in range(1, L):\n",
    "        A_prev = A \n",
    "        A, cache = linear_activation_forward(A_prev, parameters['W' + str(l)], parameters['b' + str(l)], activation)\n",
    "        caches.append(cache)\n",
    "    \n",
    "    ## For the last layer don't use any activation function\n",
    "    AL, cache = linear_activation_forward(A, parameters['W' + str(L)], parameters['b' + str(L)], None)\n",
    "    caches.append(cache)\n",
    "    \n",
    "    return AL, caches"
   ]
  },
  {
   "cell_type": "markdown",
   "metadata": {},
   "source": [
    "### Back Propagation"
   ]
  },
  {
   "cell_type": "code",
   "execution_count": 9,
   "metadata": {
    "collapsed": true
   },
   "outputs": [],
   "source": [
    "## Differentiation of relu activation function. Assume at zero derivative = 1\n",
    "## Recall that activation_cache is just Z.\n",
    "## Given dJ/da and Z what is dJ/dz?\n",
    "\n",
    "def relu_backward(dA, activation_cache):\n",
    "    return dA * (activation_cache >= 0).astype(np.float32)\n",
    "\n",
    "## Inputs: dA, cache and activation function\n",
    "## Use relu backward to calculate dZ when dA is given\n",
    "## And then calculate dW, db and dA_prev\n",
    "\n",
    "def linear_activation_backward(dA, cache, activation):\n",
    "    linear_cache, activation_cache = cache\n",
    "    \n",
    "    ## Calculate dZ\n",
    "    if activation == relu:\n",
    "        dZ = relu_backward(dA, activation_cache)\n",
    "    if activation == None:\n",
    "        dZ = dA\n",
    "    assert(dZ.shape == dA.shape)\n",
    "    \n",
    "    ## Calculate dA_prev, dW and db\n",
    "    A_prev, W, b = linear_cache\n",
    "    \n",
    "    dW = np.dot(A_prev.T, dZ)\n",
    "    db = np.sum(dZ, axis=0, keepdims=True)\n",
    "    dA_prev = np.dot(dZ, W.T)\n",
    "    \n",
    "    assert(dW.shape == W.shape)\n",
    "    assert(db.shape == b.shape)\n",
    "    assert(dA_prev.shape == A_prev.shape)\n",
    "    \n",
    "    return dA_prev, dW, db"
   ]
  },
  {
   "cell_type": "code",
   "execution_count": 10,
   "metadata": {
    "collapsed": true
   },
   "outputs": [],
   "source": [
    "# Iterating back through the layers\n",
    "def L_model_backward(AL, dAL, caches, activation):\n",
    "    grads = {}\n",
    "    L = len(caches) # the number of layers\n",
    "    grads[\"dA\"+str(L)] = dAL\n",
    "    current_cache = caches[L-1]\n",
    "    grads[\"dA\" + str(L-1)], grads[\"dW\" + str(L)], grads[\"db\" + str(L)] = linear_activation_backward(dAL, current_cache, activation = None)\n",
    "\n",
    "    for l in reversed(range(1, L)):\n",
    "        current_cache = caches[l-1]\n",
    "        dA_prev_temp, dW_temp, db_temp = linear_activation_backward(grads[\"dA\" + str(l)], current_cache, activation)\n",
    "        grads[\"dA\" + str(l-1)] = dA_prev_temp\n",
    "        grads[\"dW\" + str(l)] = dW_temp\n",
    "        grads[\"db\" + str(l)] = db_temp\n",
    "    return grads"
   ]
  },
  {
   "cell_type": "code",
   "execution_count": 11,
   "metadata": {
    "collapsed": true
   },
   "outputs": [],
   "source": [
    "## Gradient descent step\n",
    "def update_parameters(parameters, grads,learning_rate):\n",
    "    L = len(parameters) // 2                 # number of layers in the neural networks\n",
    "    for l in range(L):\n",
    "        parameters[\"W\" + str(l + 1)] = parameters[\"W\" + str(l + 1)] - learning_rate * grads[\"dW\" + str(l + 1)]\n",
    "        parameters[\"b\" + str(l + 1)] = parameters[\"b\" + str(l + 1)] - learning_rate * grads[\"db\" + str(l + 1)]\n",
    "    return parameters"
   ]
  },
  {
   "cell_type": "code",
   "execution_count": 12,
   "metadata": {
    "collapsed": true
   },
   "outputs": [],
   "source": [
    "## Return the cost as well as gradient of cost with respect to y_hat\n",
    "def MSE_Cost(y_pred, y_true):\n",
    "    m = float(y_true.shape[0])\n",
    "    return 0.5 * np.mean((y_pred - y_true)**2), (y_pred - y_true) / m"
   ]
  },
  {
   "cell_type": "code",
   "execution_count": 13,
   "metadata": {
    "collapsed": true
   },
   "outputs": [],
   "source": [
    "## Define your architecture using Layer_dims. \n",
    "## Remember input_layer and output_layer's dimensions depend on the problem you're trying to solve\n",
    "LAYER_DIMS = [1, 64, 64, 64, 1]\n",
    "parameters = initialize_parameters(LAYER_DIMS)"
   ]
  },
  {
   "cell_type": "code",
   "execution_count": 14,
   "metadata": {
    "collapsed": true
   },
   "outputs": [],
   "source": [
    "ITERATIONS = 3000\n",
    "LEARNING_RATE = 0.01"
   ]
  },
  {
   "cell_type": "code",
   "execution_count": 15,
   "metadata": {
    "collapsed": true
   },
   "outputs": [],
   "source": [
    "costs = []"
   ]
  },
  {
   "cell_type": "markdown",
   "metadata": {},
   "source": [
    "### Gradient Checker\n",
    "* Use this to verify if the gradients returned by your backpropagation implementation are correct"
   ]
  },
  {
   "cell_type": "code",
   "execution_count": 21,
   "metadata": {
    "collapsed": true
   },
   "outputs": [],
   "source": [
    "def gradient_checker():\n",
    "    global x_data, y_data\n",
    "    epsilon = 1e-4\n",
    "    parameters = initialize_parameters(LAYER_DIMS)\n",
    "    parameters_copy = parameters\n",
    "    AL, caches = L_model_forward(x_data, parameters, activation=relu)\n",
    "    cost, dAL = MSE_Cost(AL, y_data)\n",
    "    gradients = L_model_backward(AL, dAL, caches, activation=relu)\n",
    "    L = len(parameters) // 2 \n",
    "    for l in range(1, L+1):\n",
    "        W = parameters[\"W\" + str(l)]\n",
    "        s_lm1, s_l = W.shape\n",
    "        i = np.random.randint(s_lm1)\n",
    "        j = np.random.randint(s_l)\n",
    "        grad_actual = gradients[\"dW\"+str(l)][i, j]\n",
    "        W_plus = np.copy(W)\n",
    "        W_plus[i, j] += epsilon\n",
    "        parameters_copy[\"W\" + str(l)] = W_plus\n",
    "        AL, caches = L_model_forward(x_data, parameters_copy, activation=relu)\n",
    "        cost_plus, dAL = MSE_Cost(AL, y_data)\n",
    "        W_minus = W_plus\n",
    "        W_minus[i, j] -= 2*epsilon\n",
    "        parameters_copy[\"W\" + str(l)] = W_minus\n",
    "        AL, caches = L_model_forward(x_data, parameters_copy, activation=relu)\n",
    "        cost_minus, dAL = MSE_Cost(AL, y_data)\n",
    "        grad_estimated = (cost_plus - cost_minus) / (2 * epsilon)\n",
    "        print(abs(grad_estimated - grad_actual))\n",
    "        parameters_copy[\"W\" + str(l)] = W"
   ]
  },
  {
   "cell_type": "code",
   "execution_count": 22,
   "metadata": {},
   "outputs": [
    {
     "name": "stdout",
     "output_type": "stream",
     "text": [
      "7.796541190430162e-14\n",
      "0.0\n",
      "0.0\n",
      "1.1018963519404679e-14\n"
     ]
    }
   ],
   "source": [
    "gradient_checker()"
   ]
  },
  {
   "cell_type": "code",
   "execution_count": 18,
   "metadata": {
    "collapsed": true
   },
   "outputs": [],
   "source": [
    "## Training \n",
    "for _ in range(ITERATIONS):\n",
    "    ## Forward pass\n",
    "    AL, caches = L_model_forward(x_data, parameters, activation=relu)\n",
    "    \n",
    "    ## Calculate loss and dAL\n",
    "    cost, dAL = MSE_Cost(AL, y_data)\n",
    "    costs.append(cost)\n",
    "    \n",
    "    ## Backward pass to get gradients\n",
    "    gradients = L_model_backward(AL, dAL, caches, activation=relu)\n",
    "    \n",
    "    ## Update your parameters\n",
    "    parameters = update_parameters(parameters, gradients, LEARNING_RATE)"
   ]
  },
  {
   "cell_type": "code",
   "execution_count": 19,
   "metadata": {},
   "outputs": [
    {
     "data": {
      "text/plain": [
       "[<matplotlib.lines.Line2D at 0x7fdb4b3bb978>]"
      ]
     },
     "execution_count": 19,
     "metadata": {},
     "output_type": "execute_result"
    },
    {
     "data": {
      "image/png": "[encoded data removed]",
      "text/plain": [
       "<matplotlib.figure.Figure at 0x7fdb4b388208>"
      ]
     },
     "metadata": {},
     "output_type": "display_data"
    }
   ],
   "source": [
    "plt.plot(costs)"
   ]
  },
  {
   "cell_type": "code",
   "execution_count": 20,
   "metadata": {},
   "outputs": [
    {
     "data": {
      "text/plain": [
       "[<matplotlib.lines.Line2D at 0x7fdb4b4463c8>]"
      ]
     },
     "execution_count": 20,
     "metadata": {},
     "output_type": "execute_result"
    },
    {
     "data": {
      "image/png": "[encoded data removed]",
      "text/plain": [
       "<matplotlib.figure.Figure at 0x7fdb4b446cc0>"
      ]
     },
     "metadata": {},
     "output_type": "display_data"
    }
   ],
   "source": [
    "plt.scatter(x_data, AL)\n",
    "plt.plot(x_data, y, c='r')"
   ]
  },
  {
   "cell_type": "markdown",
   "metadata": {},
   "source": [
    "Note how the error is more towards the left and the right ends of the data.\n",
    "There's a theorem in ML, which says that the standard deviations of error increases away from the mean."
   ]
  }
 ],
 "metadata": {
  "kernelspec": {
   "display_name": "Python [conda env:tensorflow_gpu]",
   "language": "python",
   "name": "conda-env-tensorflow_gpu-py"
  },
  "language_info": {
   "codemirror_mode": {
    "name": "ipython",
    "version": 3
   },
   "file_extension": ".py",
   "mimetype": "text/x-python",
   "name": "python",
   "nbconvert_exporter": "python",
   "pygments_lexer": "ipython3",
   "version": "3.6.4"
  }
 },
 "nbformat": 4,
 "nbformat_minor": 2
}
