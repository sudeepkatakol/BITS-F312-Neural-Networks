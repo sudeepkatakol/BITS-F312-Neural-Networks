{
 "cells": [
  {
   "cell_type": "markdown",
   "metadata": {},
   "source": [
    "## Task: Semi-Supervised Learning"
   ]
  },
  {
   "cell_type": "code",
   "execution_count": 1,
   "metadata": {
    "collapsed": true
   },
   "outputs": [],
   "source": [
    "import numpy as np\n",
    "import random\n",
    "import math\n",
    "import tensorflow as tf\n",
    "import matplotlib.pyplot as plt\n",
    "%matplotlib inline"
   ]
  },
  {
   "cell_type": "code",
   "execution_count": 2,
   "metadata": {
    "collapsed": true
   },
   "outputs": [],
   "source": [
    "from sklearn.model_selection import train_test_split"
   ]
  },
  {
   "cell_type": "code",
   "execution_count": 4,
   "metadata": {},
   "outputs": [
    {
     "name": "stdout",
     "output_type": "stream",
     "text": [
      "2\n",
      "3\n",
      "4\n",
      "5\n"
     ]
    }
   ],
   "source": [
    "def unpickle(file):\n",
    "    import pickle\n",
    "    with open(file, 'rb') as fo:\n",
    "        dict = pickle.load(fo, encoding='bytes')\n",
    "    return dict\n",
    "\n",
    "labelled = unpickle('cifar-10-python/cifar-10-batches-py/data_batch_1')\n",
    "X_labelled = (np.reshape(labelled[b'data'], (-1, 3, 32, 32)).transpose(0, 2, 3, 1)).astype(np.uint8)\n",
    "y_labelled = np.array(labelled[b'labels'])\n",
    "\n",
    "X_unlabelled = []\n",
    "for i in range(2, 6):\n",
    "    print(i)\n",
    "    x1 = unpickle('cifar-10-python/cifar-10-batches-py/data_batch_'+str(i))\n",
    "    x2 = x1[b'data']\n",
    "    X_unlabelled = X_unlabelled + x2.tolist()\n",
    "X_unlabelled = np.array(X_unlabelled)\n",
    "X_unlabelled = np.reshape(X_unlabelled, (-1, 3, 32, 32))\n",
    "X_unlabelled = X_unlabelled.transpose(0, 2, 3, 1)\n",
    "X_unlabelled = X_unlabelled.astype(np.uint8)\n",
    "\n",
    "test = unpickle('cifar-10-python/cifar-10-batches-py/test_batch')\n",
    "X_test = (np.reshape(test[b'data'], (-1, 3, 32, 32)).transpose(0, 2, 3, 1)).astype(np.uint8)\n",
    "y_test = np.array(test[b'labels'])"
   ]
  },
  {
   "cell_type": "code",
   "execution_count": 5,
   "metadata": {},
   "outputs": [
    {
     "data": {
      "text/plain": [
       "((10000, 32, 32, 3), (10000,))"
      ]
     },
     "execution_count": 5,
     "metadata": {},
     "output_type": "execute_result"
    }
   ],
   "source": [
    "X_labelled.shape, y_labelled.shape"
   ]
  },
  {
   "cell_type": "code",
   "execution_count": 6,
   "metadata": {},
   "outputs": [
    {
     "data": {
      "text/plain": [
       "(40000, 32, 32, 3)"
      ]
     },
     "execution_count": 6,
     "metadata": {},
     "output_type": "execute_result"
    }
   ],
   "source": [
    "X_unlabelled.shape"
   ]
  },
  {
   "cell_type": "code",
   "execution_count": 7,
   "metadata": {},
   "outputs": [
    {
     "data": {
      "text/plain": [
       "((10000, 32, 32, 3), (10000,))"
      ]
     },
     "execution_count": 7,
     "metadata": {},
     "output_type": "execute_result"
    }
   ],
   "source": [
    "X_test.shape, y_test.shape"
   ]
  },
  {
   "cell_type": "markdown",
   "metadata": {},
   "source": [
    "## Base Model "
   ]
  },
  {
   "cell_type": "code",
   "execution_count": 8,
   "metadata": {},
   "outputs": [
    {
     "name": "stderr",
     "output_type": "stream",
     "text": [
      "Using TensorFlow backend.\n"
     ]
    }
   ],
   "source": [
    "import keras\n",
    "from keras.layers import Conv2D, BatchNormalization, Input, Dense, Flatten\n",
    "from keras.models import Model, load_model"
   ]
  },
  {
   "cell_type": "code",
   "execution_count": 9,
   "metadata": {},
   "outputs": [
    {
     "name": "stdout",
     "output_type": "stream",
     "text": [
      "_________________________________________________________________\n",
      "Layer (type)                 Output Shape              Param #   \n",
      "=================================================================\n",
      "input_1 (InputLayer)         (None, 32, 32, 3)         0         \n",
      "_________________________________________________________________\n",
      "conv2d_1 (Conv2D)            (None, 16, 16, 32)        896       \n",
      "_________________________________________________________________\n",
      "batch_normalization_1 (Batch (None, 16, 16, 32)        128       \n",
      "_________________________________________________________________\n",
      "conv2d_2 (Conv2D)            (None, 8, 8, 64)          18496     \n",
      "_________________________________________________________________\n",
      "batch_normalization_2 (Batch (None, 8, 8, 64)          256       \n",
      "_________________________________________________________________\n",
      "conv2d_3 (Conv2D)            (None, 4, 4, 128)         73856     \n",
      "_________________________________________________________________\n",
      "batch_normalization_3 (Batch (None, 4, 4, 128)         512       \n",
      "_________________________________________________________________\n",
      "flatten_1 (Flatten)          (None, 2048)              0         \n",
      "_________________________________________________________________\n",
      "dense_1 (Dense)              (None, 10)                20490     \n",
      "=================================================================\n",
      "Total params: 114,634\n",
      "Trainable params: 114,186\n",
      "Non-trainable params: 448\n",
      "_________________________________________________________________\n"
     ]
    }
   ],
   "source": [
    "def BaseModel():\n",
    "    X_input = Input((32, 32, 3))\n",
    "    X = Conv2D(32, (3, 3), strides=(2, 2), activation=\"relu\", padding=\"SAME\")(X_input)\n",
    "    X = BatchNormalization()(X)\n",
    "    X = Conv2D(64, (3, 3), strides=(2, 2), activation=\"relu\", padding=\"SAME\")(X)\n",
    "    X = BatchNormalization()(X)\n",
    "    X = Conv2D(128, (3, 3), strides=(2, 2), activation=\"relu\", padding=\"SAME\")(X)\n",
    "    X = BatchNormalization()(X)\n",
    "    X = Flatten()(X)\n",
    "    X = Dense(10, activation=\"softmax\")(X)\n",
    "    return Model(X_input, X)\n",
    "base_model = BaseModel()\n",
    "base_model.summary()"
   ]
  },
  {
   "cell_type": "code",
   "execution_count": 10,
   "metadata": {
    "collapsed": true
   },
   "outputs": [],
   "source": [
    "# Normalise \n",
    "X_labelled_n = X_labelled / 255.\n",
    "X_test_n = X_test / 255."
   ]
  },
  {
   "cell_type": "code",
   "execution_count": 11,
   "metadata": {
    "collapsed": true
   },
   "outputs": [],
   "source": [
    "nvalues = 10\n",
    "y_labelled_encoded = np.eye(nvalues)[y_labelled]"
   ]
  },
  {
   "cell_type": "code",
   "execution_count": 12,
   "metadata": {
    "collapsed": true
   },
   "outputs": [],
   "source": [
    "base_model.compile(loss = \"categorical_crossentropy\", optimizer=\"adam\", metrics=[\"accuracy\"])"
   ]
  },
  {
   "cell_type": "code",
   "execution_count": 13,
   "metadata": {
    "collapsed": true
   },
   "outputs": [],
   "source": [
    "## Upgrade to Keras 2.2.3+\n",
    "callback = keras.callbacks.EarlyStopping(monitor='val_loss', min_delta=0, patience=3, verbose=0, mode='auto', restore_best_weights=True)"
   ]
  },
  {
   "cell_type": "code",
   "execution_count": 14,
   "metadata": {
    "collapsed": true
   },
   "outputs": [],
   "source": [
    "points = 250"
   ]
  },
  {
   "cell_type": "code",
   "execution_count": 15,
   "metadata": {},
   "outputs": [
    {
     "name": "stdout",
     "output_type": "stream",
     "text": [
      "Train on 200 samples, validate on 50 samples\n",
      "Epoch 1/10\n",
      "200/200 [==============================] - 4s 19ms/step - loss: 2.8015 - acc: 0.0950 - val_loss: 2.5904 - val_acc: 0.2000\n",
      "Epoch 2/10\n",
      "200/200 [==============================] - 0s 509us/step - loss: 1.3430 - acc: 0.5350 - val_loss: 2.6089 - val_acc: 0.1800\n",
      "Epoch 3/10\n",
      "200/200 [==============================] - 0s 575us/step - loss: 0.6886 - acc: 0.8400 - val_loss: 2.6157 - val_acc: 0.2200\n",
      "Epoch 4/10\n",
      "200/200 [==============================] - 0s 580us/step - loss: 0.3351 - acc: 0.9650 - val_loss: 2.6052 - val_acc: 0.2000\n"
     ]
    },
    {
     "data": {
      "text/plain": [
       "<keras.callbacks.History at 0x7fc6b5df0d68>"
      ]
     },
     "execution_count": 15,
     "metadata": {},
     "output_type": "execute_result"
    }
   ],
   "source": [
    "base_model.fit(X_labelled_n[:points], y_labelled_encoded[:points], epochs=10, batch_size=128, validation_split=0.2, callbacks=[callback])"
   ]
  },
  {
   "cell_type": "code",
   "execution_count": 16,
   "metadata": {},
   "outputs": [
    {
     "name": "stdout",
     "output_type": "stream",
     "text": [
      "10000/10000 [==============================] - 2s 207us/step\n"
     ]
    },
    {
     "data": {
      "text/plain": [
       "[2.644049737930298, 0.1774]"
      ]
     },
     "execution_count": 16,
     "metadata": {},
     "output_type": "execute_result"
    }
   ],
   "source": [
    "base_model.evaluate(X_test_n, np.eye(nvalues)[y_test])"
   ]
  },
  {
   "cell_type": "code",
   "execution_count": 17,
   "metadata": {
    "collapsed": true
   },
   "outputs": [],
   "source": [
    "del X_labelled_n, X_test_n"
   ]
  },
  {
   "cell_type": "markdown",
   "metadata": {},
   "source": [
    "## Autoencoders"
   ]
  },
  {
   "cell_type": "code",
   "execution_count": 18,
   "metadata": {
    "collapsed": true
   },
   "outputs": [],
   "source": [
    "### Autoencoders\n",
    "from keras.layers import Conv2DTranspose\n",
    "def Encoder():\n",
    "    X_input = Input((32, 32, 3))\n",
    "    X = Conv2D(32, (3, 3), strides=(2, 2), activation=\"relu\", padding=\"SAME\")(X_input)\n",
    "    X = BatchNormalization()(X)\n",
    "    X = Conv2D(64, (3, 3), strides=(2, 2), activation=\"relu\", padding=\"SAME\")(X)\n",
    "    X = BatchNormalization()(X)\n",
    "    X = Conv2D(128, (3, 3), strides=(2, 2), activation=\"relu\", padding=\"SAME\")(X)\n",
    "    X = BatchNormalization()(X)\n",
    "    return Model(X_input, X)\n",
    "\n",
    "def Decoder(encoder):\n",
    "    # Transpose Convolution\n",
    "    X = Conv2DTranspose(64, (3, 3), strides=(2, 2), activation=\"relu\", padding=\"SAME\")(encoder.output)\n",
    "    X = Conv2DTranspose(32, (3, 3), strides=(2, 2), activation=\"relu\", padding=\"SAME\")(X)\n",
    "    ## Sigmoid Activation\n",
    "    X = Conv2DTranspose(3, (3, 3), strides=(2, 2), activation=\"sigmoid\", padding=\"SAME\")(X)\n",
    "    return Model(encoder.input, X)"
   ]
  },
  {
   "cell_type": "code",
   "execution_count": 19,
   "metadata": {},
   "outputs": [
    {
     "name": "stdout",
     "output_type": "stream",
     "text": [
      "_________________________________________________________________\n",
      "Layer (type)                 Output Shape              Param #   \n",
      "=================================================================\n",
      "input_2 (InputLayer)         (None, 32, 32, 3)         0         \n",
      "_________________________________________________________________\n",
      "conv2d_4 (Conv2D)            (None, 16, 16, 32)        896       \n",
      "_________________________________________________________________\n",
      "batch_normalization_4 (Batch (None, 16, 16, 32)        128       \n",
      "_________________________________________________________________\n",
      "conv2d_5 (Conv2D)            (None, 8, 8, 64)          18496     \n",
      "_________________________________________________________________\n",
      "batch_normalization_5 (Batch (None, 8, 8, 64)          256       \n",
      "_________________________________________________________________\n",
      "conv2d_6 (Conv2D)            (None, 4, 4, 128)         73856     \n",
      "_________________________________________________________________\n",
      "batch_normalization_6 (Batch (None, 4, 4, 128)         512       \n",
      "_________________________________________________________________\n",
      "conv2d_transpose_1 (Conv2DTr (None, 8, 8, 64)          73792     \n",
      "_________________________________________________________________\n",
      "conv2d_transpose_2 (Conv2DTr (None, 16, 16, 32)        18464     \n",
      "_________________________________________________________________\n",
      "conv2d_transpose_3 (Conv2DTr (None, 32, 32, 3)         867       \n",
      "=================================================================\n",
      "Total params: 187,267\n",
      "Trainable params: 186,819\n",
      "Non-trainable params: 448\n",
      "_________________________________________________________________\n"
     ]
    }
   ],
   "source": [
    "encoder = Encoder()\n",
    "decoder = Decoder(encoder)\n",
    "decoder.summary()"
   ]
  },
  {
   "cell_type": "code",
   "execution_count": 20,
   "metadata": {
    "collapsed": true
   },
   "outputs": [],
   "source": [
    "## Fetch normalised data\n",
    "def autoencoder_generator(X, BATCH_SIZE):\n",
    "    index = 0\n",
    "    while True:\n",
    "        if index + BATCH_SIZE <= len(X):\n",
    "            data = X[index:index+BATCH_SIZE]/255.\n",
    "            index += BATCH_SIZE\n",
    "        else:\n",
    "            np.random.shuffle(X)\n",
    "            data = X[:BATCH_SIZE]/255.\n",
    "            index = BATCH_SIZE\n",
    "        yield data, data"
   ]
  },
  {
   "cell_type": "code",
   "execution_count": 21,
   "metadata": {
    "collapsed": true
   },
   "outputs": [],
   "source": [
    "X = np.concatenate([X_labelled, X_unlabelled], axis = 0)\n",
    "split = int(0.9*len(X))\n",
    "X_train = X[:split]\n",
    "X_val = X[split:]\n",
    "fetch = autoencoder_generator(X_train, 64)"
   ]
  },
  {
   "cell_type": "code",
   "execution_count": 22,
   "metadata": {},
   "outputs": [
    {
     "data": {
      "text/plain": [
       "((45000, 32, 32, 3), (5000, 32, 32, 3))"
      ]
     },
     "execution_count": 22,
     "metadata": {},
     "output_type": "execute_result"
    }
   ],
   "source": [
    "X_train.shape, X_val.shape"
   ]
  },
  {
   "cell_type": "code",
   "execution_count": 23,
   "metadata": {
    "collapsed": true
   },
   "outputs": [],
   "source": [
    "decoder.compile(loss=\"mse\", optimizer=\"adam\")"
   ]
  },
  {
   "cell_type": "code",
   "execution_count": 24,
   "metadata": {},
   "outputs": [
    {
     "name": "stdout",
     "output_type": "stream",
     "text": [
      "Epoch 1/5\n",
      "50/50 [==============================] - 5s 97ms/step - loss: 0.0300 - val_loss: 0.0147\n",
      "Epoch 2/5\n",
      "50/50 [==============================] - 4s 78ms/step - loss: 0.0111 - val_loss: 0.0088\n",
      "Epoch 3/5\n",
      "50/50 [==============================] - 4s 78ms/step - loss: 0.0079 - val_loss: 0.0071\n",
      "Epoch 4/5\n",
      "50/50 [==============================] - 4s 78ms/step - loss: 0.0066 - val_loss: 0.0063\n",
      "Epoch 5/5\n",
      "50/50 [==============================] - 4s 78ms/step - loss: 0.0059 - val_loss: 0.0059\n"
     ]
    },
    {
     "data": {
      "text/plain": [
       "<keras.callbacks.History at 0x7fc6b00b1400>"
      ]
     },
     "execution_count": 24,
     "metadata": {},
     "output_type": "execute_result"
    }
   ],
   "source": [
    "decoder.fit_generator(fetch, steps_per_epoch=50, epochs=5, validation_data=(X_val/255., X_val/255.), callbacks=[callback])"
   ]
  },
  {
   "cell_type": "code",
   "execution_count": 25,
   "metadata": {
    "collapsed": true
   },
   "outputs": [],
   "source": [
    "## Check generations\n",
    "reconstructions = decoder.predict(X_test[:5]/255.)"
   ]
  },
  {
   "cell_type": "code",
   "execution_count": 26,
   "metadata": {},
   "outputs": [
    {
     "data": {
      "image/png": "[encoded data removed]",
      "text/plain": [
       "<Figure size 432x288 with 1 Axes>"
      ]
     },
     "metadata": {},
     "output_type": "display_data"
    }
   ],
   "source": [
    "import matplotlib.pyplot as plt\n",
    "%matplotlib inline\n",
    "i = 0 ## Check for i = 0, 1, 2, 3, 4\n",
    "plt.imshow(X_test[i]/255.)\n",
    "plt.show()"
   ]
  },
  {
   "cell_type": "code",
   "execution_count": 27,
   "metadata": {},
   "outputs": [
    {
     "data": {
      "image/png": "[encoded data removed]",
      "text/plain": [
       "<Figure size 432x288 with 1 Axes>"
      ]
     },
     "metadata": {},
     "output_type": "display_data"
    }
   ],
   "source": [
    "plt.imshow(reconstructions[i])\n",
    "plt.show()"
   ]
  },
  {
   "cell_type": "code",
   "execution_count": 28,
   "metadata": {
    "collapsed": true
   },
   "outputs": [],
   "source": [
    "encoder.save('encoder.h5')\n",
    "## Unsupervised learning all this while. "
   ]
  },
  {
   "cell_type": "code",
   "execution_count": 29,
   "metadata": {},
   "outputs": [
    {
     "name": "stderr",
     "output_type": "stream",
     "text": [
      "/home/sudeep/.conda/envs/keras_gpu_tensorflow/lib/python3.6/site-packages/keras/engine/saving.py:292: UserWarning: No training configuration found in save file: the model was *not* compiled. Compile it manually.\n",
      "  warnings.warn('No training configuration found in save file: '\n"
     ]
    }
   ],
   "source": [
    "def AutoEncoderSemiSupModel(encoder):\n",
    "    X = Flatten()(encoder.output)\n",
    "    X = Dense(10, activation=\"softmax\")(X)\n",
    "    return Model(encoder.input, X)\n",
    "autoencsemisup1 = AutoEncoderSemiSupModel(load_model(\"encoder.h5\"))\n",
    "autoencsemisup2 = AutoEncoderSemiSupModel(load_model(\"encoder.h5\"))"
   ]
  },
  {
   "cell_type": "code",
   "execution_count": 30,
   "metadata": {
    "collapsed": true
   },
   "outputs": [],
   "source": [
    "X_labelled_n = X_labelled / 255.\n",
    "X_test_n = X_test / 255.\n",
    "nvalues = 10\n",
    "y_labelled_encoded = np.eye(nvalues)[y_labelled]"
   ]
  },
  {
   "cell_type": "code",
   "execution_count": 31,
   "metadata": {},
   "outputs": [
    {
     "data": {
      "text/plain": [
       "[<keras.engine.input_layer.InputLayer at 0x7fc65cc2e8d0>,\n",
       " <keras.layers.convolutional.Conv2D at 0x7fc65cc2e978>,\n",
       " <keras.layers.normalization.BatchNormalization at 0x7fc65cc2ed68>,\n",
       " <keras.layers.convolutional.Conv2D at 0x7fc65cc2ec18>,\n",
       " <keras.layers.normalization.BatchNormalization at 0x7fc65cc2ee80>,\n",
       " <keras.layers.convolutional.Conv2D at 0x7fc65cc2efd0>,\n",
       " <keras.layers.normalization.BatchNormalization at 0x7fc65cc24278>,\n",
       " <keras.layers.core.Flatten at 0x7fc65c9ca9b0>,\n",
       " <keras.layers.core.Dense at 0x7fc65e79cdd8>]"
      ]
     },
     "execution_count": 31,
     "metadata": {},
     "output_type": "execute_result"
    }
   ],
   "source": [
    "## Fix all the layers in the model\n",
    "autoencsemisup2.layers"
   ]
  },
  {
   "cell_type": "code",
   "execution_count": 32,
   "metadata": {},
   "outputs": [
    {
     "data": {
      "text/plain": [
       "[False, True, True, True, True, True, True, True, True]"
      ]
     },
     "execution_count": 32,
     "metadata": {},
     "output_type": "execute_result"
    }
   ],
   "source": [
    "[autoencsemisup2.layers[i].trainable for i in range(len(autoencsemisup2.layers))]"
   ]
  },
  {
   "cell_type": "code",
   "execution_count": 33,
   "metadata": {
    "collapsed": true
   },
   "outputs": [],
   "source": [
    "for i in range(len(autoencsemisup2.layers[:-2])):\n",
    "    autoencsemisup2.layers[i].trainable = False"
   ]
  },
  {
   "cell_type": "code",
   "execution_count": 34,
   "metadata": {},
   "outputs": [
    {
     "name": "stdout",
     "output_type": "stream",
     "text": [
      "_________________________________________________________________\n",
      "Layer (type)                 Output Shape              Param #   \n",
      "=================================================================\n",
      "input_2 (InputLayer)         (None, 32, 32, 3)         0         \n",
      "_________________________________________________________________\n",
      "conv2d_4 (Conv2D)            (None, 16, 16, 32)        896       \n",
      "_________________________________________________________________\n",
      "batch_normalization_4 (Batch (None, 16, 16, 32)        128       \n",
      "_________________________________________________________________\n",
      "conv2d_5 (Conv2D)            (None, 8, 8, 64)          18496     \n",
      "_________________________________________________________________\n",
      "batch_normalization_5 (Batch (None, 8, 8, 64)          256       \n",
      "_________________________________________________________________\n",
      "conv2d_6 (Conv2D)            (None, 4, 4, 128)         73856     \n",
      "_________________________________________________________________\n",
      "batch_normalization_6 (Batch (None, 4, 4, 128)         512       \n",
      "_________________________________________________________________\n",
      "flatten_3 (Flatten)          (None, 2048)              0         \n",
      "_________________________________________________________________\n",
      "dense_3 (Dense)              (None, 10)                20490     \n",
      "=================================================================\n",
      "Total params: 114,634\n",
      "Trainable params: 20,490\n",
      "Non-trainable params: 94,144\n",
      "_________________________________________________________________\n"
     ]
    }
   ],
   "source": [
    "autoencsemisup2.compile(loss=\"categorical_crossentropy\", optimizer=\"adam\", metrics=[\"accuracy\"])\n",
    "autoencsemisup2.summary()"
   ]
  },
  {
   "cell_type": "code",
   "execution_count": 35,
   "metadata": {},
   "outputs": [
    {
     "name": "stdout",
     "output_type": "stream",
     "text": [
      "Train on 200 samples, validate on 50 samples\n",
      "Epoch 1/10\n",
      "200/200 [==============================] - 1s 4ms/step - loss: 3.1685 - acc: 0.1100 - val_loss: 2.8910 - val_acc: 0.2600\n",
      "Epoch 2/10\n",
      "200/200 [==============================] - 0s 208us/step - loss: 2.4480 - acc: 0.1800 - val_loss: 2.5982 - val_acc: 0.3400\n",
      "Epoch 3/10\n",
      "200/200 [==============================] - 0s 284us/step - loss: 1.9253 - acc: 0.3150 - val_loss: 2.4505 - val_acc: 0.3400\n",
      "Epoch 4/10\n",
      "200/200 [==============================] - 0s 260us/step - loss: 1.5540 - acc: 0.4600 - val_loss: 2.4190 - val_acc: 0.3400\n",
      "Epoch 5/10\n",
      "200/200 [==============================] - 0s 250us/step - loss: 1.2710 - acc: 0.5800 - val_loss: 2.4756 - val_acc: 0.3600\n",
      "Epoch 6/10\n",
      "200/200 [==============================] - 0s 270us/step - loss: 1.0500 - acc: 0.6700 - val_loss: 2.5594 - val_acc: 0.3600\n",
      "Epoch 7/10\n",
      "200/200 [==============================] - 0s 308us/step - loss: 0.8931 - acc: 0.7250 - val_loss: 2.6437 - val_acc: 0.3600\n"
     ]
    },
    {
     "data": {
      "text/plain": [
       "<keras.callbacks.History at 0x7fc65ca0ce80>"
      ]
     },
     "execution_count": 35,
     "metadata": {},
     "output_type": "execute_result"
    }
   ],
   "source": [
    "autoencsemisup2.fit(X_labelled_n[:points], y_labelled_encoded[:points], epochs=10, batch_size=128, validation_split=0.20, callbacks = [callback])"
   ]
  },
  {
   "cell_type": "code",
   "execution_count": 36,
   "metadata": {},
   "outputs": [
    {
     "name": "stdout",
     "output_type": "stream",
     "text": [
      "10000/10000 [==============================] - 2s 210us/step\n"
     ]
    },
    {
     "data": {
      "text/plain": [
       "[2.7939420974731446, 0.2074]"
      ]
     },
     "execution_count": 36,
     "metadata": {},
     "output_type": "execute_result"
    }
   ],
   "source": [
    "autoencsemisup2.evaluate(X_test_n, np.eye(nvalues)[y_test])"
   ]
  },
  {
   "cell_type": "code",
   "execution_count": 37,
   "metadata": {},
   "outputs": [
    {
     "name": "stdout",
     "output_type": "stream",
     "text": [
      "Train on 200 samples, validate on 50 samples\n",
      "Epoch 1/10\n",
      "200/200 [==============================] - 1s 4ms/step - loss: 3.0859 - acc: 0.1000 - val_loss: 2.4718 - val_acc: 0.1600\n",
      "Epoch 2/10\n",
      "200/200 [==============================] - 0s 475us/step - loss: 1.9198 - acc: 0.3250 - val_loss: 2.2121 - val_acc: 0.2600\n",
      "Epoch 3/10\n",
      "200/200 [==============================] - 0s 489us/step - loss: 1.2664 - acc: 0.6150 - val_loss: 2.1742 - val_acc: 0.2800\n",
      "Epoch 4/10\n",
      "200/200 [==============================] - 0s 668us/step - loss: 0.8420 - acc: 0.7750 - val_loss: 2.2463 - val_acc: 0.2400\n",
      "Epoch 5/10\n",
      "200/200 [==============================] - 0s 670us/step - loss: 0.5880 - acc: 0.8650 - val_loss: 2.3309 - val_acc: 0.2400\n",
      "Epoch 6/10\n",
      "200/200 [==============================] - 0s 641us/step - loss: 0.4005 - acc: 0.9350 - val_loss: 2.4264 - val_acc: 0.2600\n",
      "10000/10000 [==============================] - 2s 224us/step\n"
     ]
    },
    {
     "data": {
      "text/plain": [
       "[2.5251216514587402, 0.2078]"
      ]
     },
     "execution_count": 37,
     "metadata": {},
     "output_type": "execute_result"
    }
   ],
   "source": [
    "autoencsemisup1.compile(loss=\"categorical_crossentropy\", optimizer=\"adam\", metrics=[\"accuracy\"])\n",
    "autoencsemisup1.fit(X_labelled_n[:points], y_labelled_encoded[:points], epochs=10, batch_size=128, validation_split=0.2, callbacks=[callback])\n",
    "autoencsemisup1.evaluate(X_test_n, np.eye(nvalues)[y_test])"
   ]
  },
  {
   "cell_type": "code",
   "execution_count": 38,
   "metadata": {},
   "outputs": [
    {
     "name": "stdout",
     "output_type": "stream",
     "text": [
      "_________________________________________________________________\n",
      "Layer (type)                 Output Shape              Param #   \n",
      "=================================================================\n",
      "input_2 (InputLayer)         (None, 32, 32, 3)         0         \n",
      "_________________________________________________________________\n",
      "conv2d_4 (Conv2D)            (None, 16, 16, 32)        896       \n",
      "_________________________________________________________________\n",
      "batch_normalization_4 (Batch (None, 16, 16, 32)        128       \n",
      "_________________________________________________________________\n",
      "conv2d_5 (Conv2D)            (None, 8, 8, 64)          18496     \n",
      "_________________________________________________________________\n",
      "batch_normalization_5 (Batch (None, 8, 8, 64)          256       \n",
      "_________________________________________________________________\n",
      "conv2d_6 (Conv2D)            (None, 4, 4, 128)         73856     \n",
      "_________________________________________________________________\n",
      "batch_normalization_6 (Batch (None, 4, 4, 128)         512       \n",
      "_________________________________________________________________\n",
      "conv2d_7 (Conv2D)            (None, 4, 4, 256)         295168    \n",
      "_________________________________________________________________\n",
      "flatten_4 (Flatten)          (None, 4096)              0         \n",
      "_________________________________________________________________\n",
      "dense_4 (Dense)              (None, 128)               524416    \n",
      "_________________________________________________________________\n",
      "dense_5 (Dense)              (None, 10)                1290      \n",
      "=================================================================\n",
      "Total params: 915,018\n",
      "Trainable params: 525,706\n",
      "Non-trainable params: 389,312\n",
      "_________________________________________________________________\n"
     ]
    },
    {
     "name": "stderr",
     "output_type": "stream",
     "text": [
      "/home/sudeep/.conda/envs/keras_gpu_tensorflow/lib/python3.6/site-packages/keras/engine/saving.py:292: UserWarning: No training configuration found in save file: the model was *not* compiled. Compile it manually.\n",
      "  warnings.warn('No training configuration found in save file: '\n"
     ]
    }
   ],
   "source": [
    "def AutoEncoderSemiSupModel2(encoder):\n",
    "    #X = Flatten()(encoder.output)\n",
    "    X = Conv2D(256, (3, 3), activation=\"relu\", padding=\"SAME\")(encoder.output)\n",
    "    X = Flatten()(X)\n",
    "    X = Dense(128, activation=\"relu\")(X)\n",
    "    X = Dense(10, activation=\"softmax\")(X)\n",
    "    return Model(encoder.input, X)\n",
    "autoencsemisup = AutoEncoderSemiSupModel2(load_model(\"encoder.h5\"))\n",
    "for i in range(len(autoencsemisup.layers[:-3])):\n",
    "    autoencsemisup.layers[i].trainable = False\n",
    "autoencsemisup.compile(loss=\"categorical_crossentropy\", optimizer=\"adam\", metrics=[\"accuracy\"])\n",
    "autoencsemisup.summary()"
   ]
  },
  {
   "cell_type": "code",
   "execution_count": 39,
   "metadata": {},
   "outputs": [
    {
     "name": "stdout",
     "output_type": "stream",
     "text": [
      "Train on 200 samples, validate on 50 samples\n",
      "Epoch 1/10\n",
      "200/200 [==============================] - 1s 6ms/step - loss: 2.4796 - acc: 0.1300 - val_loss: 2.1871 - val_acc: 0.1600\n",
      "Epoch 2/10\n",
      "200/200 [==============================] - 0s 349us/step - loss: 1.7651 - acc: 0.4450 - val_loss: 2.1810 - val_acc: 0.2000\n",
      "Epoch 3/10\n",
      "200/200 [==============================] - 0s 363us/step - loss: 1.2346 - acc: 0.6900 - val_loss: 2.2127 - val_acc: 0.2200\n",
      "Epoch 4/10\n",
      "200/200 [==============================] - 0s 470us/step - loss: 0.9161 - acc: 0.7550 - val_loss: 2.3142 - val_acc: 0.2800\n",
      "Epoch 5/10\n",
      "200/200 [==============================] - 0s 445us/step - loss: 0.6051 - acc: 0.9100 - val_loss: 2.4649 - val_acc: 0.2800\n"
     ]
    },
    {
     "data": {
      "text/plain": [
       "<keras.callbacks.History at 0x7fc65ca0cf98>"
      ]
     },
     "execution_count": 39,
     "metadata": {},
     "output_type": "execute_result"
    }
   ],
   "source": [
    "autoencsemisup.fit(X_labelled_n[:points], y_labelled_encoded[:points], epochs=10, batch_size=128, validation_split=0.2, callbacks=[callback])"
   ]
  },
  {
   "cell_type": "code",
   "execution_count": 40,
   "metadata": {},
   "outputs": [
    {
     "name": "stdout",
     "output_type": "stream",
     "text": [
      "10000/10000 [==============================] - 2s 216us/step\n"
     ]
    },
    {
     "data": {
      "text/plain": [
       "[2.5251216514587402, 0.2078]"
      ]
     },
     "execution_count": 40,
     "metadata": {},
     "output_type": "execute_result"
    }
   ],
   "source": [
    "autoencsemisup1.evaluate(X_test_n, np.eye(nvalues)[y_test])"
   ]
  },
  {
   "cell_type": "markdown",
   "metadata": {},
   "source": [
    "### TASKS\n",
    "\n",
    "* Can use unlabelled test data for training autoencoder! Try and reason whether or not this helps\n",
    "\n",
    "\n",
    "* Increase the points variable: 250 -> 1000 -> 5000 -> 10000. Check how extra labelled data impacts performance."
   ]
  },
  {
   "cell_type": "markdown",
   "metadata": {},
   "source": [
    "### TSNE"
   ]
  },
  {
   "cell_type": "code",
   "execution_count": 50,
   "metadata": {},
   "outputs": [
    {
     "name": "stderr",
     "output_type": "stream",
     "text": [
      "/home/sudeep/.conda/envs/keras_gpu_tensorflow/lib/python3.6/site-packages/keras/engine/saving.py:292: UserWarning: No training configuration found in save file: the model was *not* compiled. Compile it manually.\n",
      "  warnings.warn('No training configuration found in save file: '\n"
     ]
    }
   ],
   "source": [
    "from sklearn.manifold import TSNE\n",
    "tsne = TSNE()\n",
    "enc = load_model('encoder.h5')\n",
    "codes = enc.predict(X_test_n[:1000])"
   ]
  },
  {
   "cell_type": "code",
   "execution_count": 51,
   "metadata": {},
   "outputs": [
    {
     "data": {
      "text/plain": [
       "(1000, 2048)"
      ]
     },
     "execution_count": 51,
     "metadata": {},
     "output_type": "execute_result"
    }
   ],
   "source": [
    "codes = np.reshape(codes, [-1, 4*4*128])\n",
    "codes.shape"
   ]
  },
  {
   "cell_type": "code",
   "execution_count": 52,
   "metadata": {
    "collapsed": true
   },
   "outputs": [],
   "source": [
    "projections = tsne.fit_transform(codes)"
   ]
  },
  {
   "cell_type": "code",
   "execution_count": 53,
   "metadata": {},
   "outputs": [
    {
     "data": {
      "text/plain": [
       "(1000, 2)"
      ]
     },
     "execution_count": 53,
     "metadata": {},
     "output_type": "execute_result"
    }
   ],
   "source": [
    "projections.shape"
   ]
  },
  {
   "cell_type": "code",
   "execution_count": 54,
   "metadata": {
    "collapsed": true
   },
   "outputs": [],
   "source": [
    "from bokeh.plotting import figure, output_file, show, ColumnDataSource, reset_output, output_notebook\n",
    "from bokeh.transform import linear_cmap\n",
    "from bokeh.palettes import d3\n",
    "from bokeh.models import CategoricalColorMapper"
   ]
  },
  {
   "cell_type": "code",
   "execution_count": 55,
   "metadata": {
    "collapsed": true
   },
   "outputs": [],
   "source": [
    "from collections import OrderedDict\n",
    "CATEGORY_DICT = OrderedDict({\n",
    "0 : \"airplane\", \n",
    "1: \"automobile\",\n",
    "2: \"bird\",\n",
    "3:\"cat\",\n",
    "4:\"deer\",\n",
    "5:\"dog\",\n",
    "6:\"frog\",\n",
    "7:\"horse\",\n",
    "8:\"ship\",\n",
    "9:\"truck\"\n",
    "})"
   ]
  },
  {
   "cell_type": "code",
   "execution_count": 57,
   "metadata": {
    "collapsed": true
   },
   "outputs": [],
   "source": [
    "reset_output()\n",
    "source = ColumnDataSource(data=dict(\n",
    "            x=projections[:,0],\n",
    "            y=projections[:,1],\n",
    "            labels = [CATEGORY_DICT[i] for i in y_test[:1000]]\n",
    "        ))\n",
    "color_map = CategoricalColorMapper(factors=list(CATEGORY_DICT.values()),\n",
    "                                       palette=d3['Category10'][10])\n",
    "color = {'field': 'labels', 'transform': color_map}\n",
    "legend = 'labels'\n",
    "p = figure(plot_width=1600, plot_height=800,title=\"TSNE_Projections\")\n",
    "p.circle('x', 'y', source=source, color=color, size=10, legend=legend)\n",
    "output_file(\"autoencoder_tsne.html\")\n",
    "show(p)"
   ]
  },
  {
   "cell_type": "markdown",
   "metadata": {},
   "source": [
    "## TASK:\n",
    "\n",
    "* Train autoencoder to convergence and then visualise. Use 3-D TSNE "
   ]
  },
  {
   "cell_type": "markdown",
   "metadata": {
    "collapsed": true
   },
   "source": [
    "## GANs"
   ]
  },
  {
   "cell_type": "code",
   "execution_count": 48,
   "metadata": {
    "collapsed": true
   },
   "outputs": [],
   "source": [
    "import pickle as pkl"
   ]
  },
  {
   "cell_type": "code",
   "execution_count": 49,
   "metadata": {},
   "outputs": [
    {
     "name": "stdout",
     "output_type": "stream",
     "text": [
      "WARNING:tensorflow:From <ipython-input-49-a37a59f11b0d>:2: read_data_sets (from tensorflow.contrib.learn.python.learn.datasets.mnist) is deprecated and will be removed in a future version.\n",
      "Instructions for updating:\n",
      "Please use alternatives such as official/mnist/dataset.py from tensorflow/models.\n",
      "WARNING:tensorflow:From /home/sudeep/.conda/envs/keras_gpu_tensorflow/lib/python3.6/site-packages/tensorflow/contrib/learn/python/learn/datasets/mnist.py:260: maybe_download (from tensorflow.contrib.learn.python.learn.datasets.base) is deprecated and will be removed in a future version.\n",
      "Instructions for updating:\n",
      "Please write your own downloading logic.\n",
      "WARNING:tensorflow:From /home/sudeep/.conda/envs/keras_gpu_tensorflow/lib/python3.6/site-packages/tensorflow/contrib/learn/python/learn/datasets/mnist.py:262: extract_images (from tensorflow.contrib.learn.python.learn.datasets.mnist) is deprecated and will be removed in a future version.\n",
      "Instructions for updating:\n",
      "Please use tf.data to implement this functionality.\n",
      "Extracting MNIST_data/train-images-idx3-ubyte.gz\n",
      "WARNING:tensorflow:From /home/sudeep/.conda/envs/keras_gpu_tensorflow/lib/python3.6/site-packages/tensorflow/contrib/learn/python/learn/datasets/mnist.py:267: extract_labels (from tensorflow.contrib.learn.python.learn.datasets.mnist) is deprecated and will be removed in a future version.\n",
      "Instructions for updating:\n",
      "Please use tf.data to implement this functionality.\n",
      "Extracting MNIST_data/train-labels-idx1-ubyte.gz\n",
      "Extracting MNIST_data/t10k-images-idx3-ubyte.gz\n",
      "Extracting MNIST_data/t10k-labels-idx1-ubyte.gz\n",
      "WARNING:tensorflow:From /home/sudeep/.conda/envs/keras_gpu_tensorflow/lib/python3.6/site-packages/tensorflow/contrib/learn/python/learn/datasets/mnist.py:290: DataSet.__init__ (from tensorflow.contrib.learn.python.learn.datasets.mnist) is deprecated and will be removed in a future version.\n",
      "Instructions for updating:\n",
      "Please use alternatives such as official/mnist/dataset.py from tensorflow/models.\n"
     ]
    }
   ],
   "source": [
    "from tensorflow.examples.tutorials.mnist import input_data\n",
    "mnist = input_data.read_data_sets('MNIST_data')"
   ]
  },
  {
   "cell_type": "code",
   "execution_count": null,
   "metadata": {
    "collapsed": true
   },
   "outputs": [],
   "source": [
    "def model_inputs(real_dim, z_dim):\n",
    "    real_input = tf.placeholder(tf.float32, (None, real_dim))\n",
    "    z_input = tf.placeholder(tf.float32, (None, z_dim))\n",
    "    return real_input, z_input\n",
    "\n",
    "def generator(z, out_dim, n_units=128, reuse=False,  alpha=0.01):    \n",
    "    with tf.variable_scope('generator', reuse=reuse):\n",
    "        h1 = tf.layers.dense(z, n_units, activation=None)\n",
    "        # Leaky ReLU\n",
    "        h1 = tf.maximum(h1, alpha*h1)\n",
    "        # Logits and tanh output\n",
    "        logits = tf.layers.dense(h1, out_dim, activation=None)\n",
    "        out = tf.nn.tanh(logits)\n",
    "        return out, logits\n",
    "\n",
    "def discriminator(x, n_units=128, reuse=False, alpha=0.01):\n",
    "    with tf.variable_scope('discriminator', reuse=reuse):\n",
    "        # Hidden layer\n",
    "        h1 = tf.layers.dense(x, n_units, activation=None)\n",
    "        # Leaky ReLU\n",
    "        h1 = tf.maximum(h1, alpha*h1)\n",
    "        logits = tf.layers.dense(h1, 1, activation=None)\n",
    "        out = tf.nn.sigmoid(logits)\n",
    "        return out, logits\n",
    "\n",
    "# Hyperparameters\n",
    "input_size = 784 # 28x28 MNIST images flattened\n",
    "z_size = 100 # Size of latent vector to generator\n",
    "g_hidden_size = 128 # Size of hidden layer in generator\n",
    "d_hidden_size = 128 # Size of hidden layer in discriminator\n",
    "# Leak factor for leaky ReLU\n",
    "alpha = 0.01\n",
    "\n",
    "tf.reset_default_graph() \n",
    "# Create our input placeholders \n",
    "real_input, z = model_inputs(input_size, z_size)  \n",
    "# Generator network here \n",
    "generations, generation_logits = generator(z, input_size, g_hidden_size, reuse=False,  alpha=alpha) \n",
    "# g_model is the generator output  \n",
    "\n",
    "# Disriminator network here \n",
    "d_real, d_real_logits = discriminator(real_input, d_hidden_size, reuse=False, alpha=alpha) \n",
    "d_fake, d_fake_logits = discriminator(generations, d_hidden_size, reuse=True, alpha=alpha)"
   ]
  },
  {
   "cell_type": "code",
   "execution_count": null,
   "metadata": {
    "collapsed": true
   },
   "outputs": [],
   "source": [
    "d_labels_real = tf.ones_like(d_real)\n",
    "d_labels_fake = tf.zeros_like(d_fake)\n",
    "\n",
    "d_loss_real = tf.nn.sigmoid_cross_entropy_with_logits(labels=d_labels_real, logits=d_real_logits)\n",
    "d_loss_fake = tf.nn.sigmoid_cross_entropy_with_logits(labels=d_labels_fake, logits=d_fake_logits)\n",
    "\n",
    "d_loss = tf.reduce_mean(d_loss_real + d_loss_fake)\n",
    "\n",
    "g_loss = tf.reduce_mean(tf.nn.sigmoid_cross_entropy_with_logits(labels=tf.ones_like(d_fake_logits), logits=d_fake_logits))"
   ]
  },
  {
   "cell_type": "code",
   "execution_count": null,
   "metadata": {
    "collapsed": true
   },
   "outputs": [],
   "source": [
    "# Optimizers\n",
    "learning_rate = 0.002\n",
    "\n",
    "# Get the trainable_variables, split into G and D parts\n",
    "t_vars = tf.trainable_variables()\n",
    "g_vars = [var for var in t_vars if var.name.startswith(\"generator\")]\n",
    "d_vars = [var for var in t_vars if var.name.startswith(\"discriminator\")]\n",
    "\n",
    "d_train_opt = tf.train.AdamOptimizer().minimize(d_loss, var_list=d_vars)\n",
    "g_train_opt = tf.train.AdamOptimizer().minimize(g_loss, var_list=g_vars)"
   ]
  },
  {
   "cell_type": "code",
   "execution_count": null,
   "metadata": {
    "collapsed": true
   },
   "outputs": [],
   "source": [
    "batch_size = 100\n",
    "epochs = 100\n",
    "samples = []\n",
    "losses = []\n",
    "saver = tf.train.Saver(var_list = g_vars)\n",
    "with tf.Session() as sess:\n",
    "    sess.run(tf.global_variables_initializer())\n",
    "    for e in range(epochs):\n",
    "        for ii in range(mnist.train.num_examples//batch_size):\n",
    "            batch = mnist.train.next_batch(batch_size)\n",
    "            \n",
    "            # Get images, reshape and rescale to pass to D\n",
    "            batch_images = batch[0].reshape((batch_size, 784))\n",
    "            batch_images = batch_images*2 - 1\n",
    "            \n",
    "            # Sample random noise for G\n",
    "            batch_z = np.random.uniform(-1, 1, size=(batch_size, z_size))\n",
    "            \n",
    "            # Run optimizers\n",
    "            _ = sess.run(d_train_opt, feed_dict={real_input: batch_images, z: batch_z})\n",
    "            _ = sess.run(g_train_opt, feed_dict={z: batch_z})\n",
    "        \n",
    "        # At the end of each epoch, get the losses and print them out\n",
    "        train_loss_d = sess.run(d_loss, {z: batch_z, real_input: batch_images})\n",
    "        train_loss_g = g_loss.eval({z: batch_z})\n",
    "            \n",
    "        print(\"Epoch {}/{}...\".format(e+1, epochs),\n",
    "              \"Discriminator Loss: {:.4f}...\".format(train_loss_d),\n",
    "              \"Generator Loss: {:.4f}\".format(train_loss_g))    \n",
    "        # Save losses to view after training\n",
    "        losses.append((train_loss_d, train_loss_g))\n",
    "        \n",
    "        # Sample from generator as we're training for viewing afterwards\n",
    "        sample_z = np.random.uniform(-1, 1, size=(16, z_size))\n",
    "        gen_samples = sess.run(\n",
    "                       generator(z, input_size, reuse=True),\n",
    "                       feed_dict={z: sample_z})\n",
    "        samples.append(gen_samples)\n",
    "        saver.save(sess, './checkpoints/generator.ckpt')"
   ]
  },
  {
   "cell_type": "code",
   "execution_count": null,
   "metadata": {
    "collapsed": true
   },
   "outputs": [],
   "source": [
    "import pickle as pkl\n",
    "with open('train_samples.pkl', 'wb') as f:\n",
    "    pkl.dump(samples, f)"
   ]
  },
  {
   "cell_type": "code",
   "execution_count": 37,
   "metadata": {
    "collapsed": true
   },
   "outputs": [],
   "source": [
    "with open('train_samples.pkl', 'rb') as f:\n",
    "    samples = pkl.load(f)"
   ]
  },
  {
   "cell_type": "code",
   "execution_count": 49,
   "metadata": {
    "collapsed": true
   },
   "outputs": [],
   "source": [
    "generated_images = np.reshape(samples[-1][0], (-1, 28, 28))"
   ]
  },
  {
   "cell_type": "code",
   "execution_count": 60,
   "metadata": {},
   "outputs": [
    {
     "data": {
      "text/plain": [
       "<matplotlib.image.AxesImage at 0x7fc08a5f65c0>"
      ]
     },
     "execution_count": 60,
     "metadata": {},
     "output_type": "execute_result"
    },
    {
     "data": {
      "image/png": "[encoded data removed]",
      "text/plain": [
       "<Figure size 432x288 with 1 Axes>"
      ]
     },
     "metadata": {},
     "output_type": "display_data"
    }
   ],
   "source": [
    "plt.imshow(generated_images[11])"
   ]
  },
  {
   "cell_type": "markdown",
   "metadata": {},
   "source": [
    "## TASKS:\n",
    "\n",
    "* Visualise images generated when you do a linear interpolation in noise"
   ]
  },
  {
   "cell_type": "markdown",
   "metadata": {},
   "source": [
    "### Further Reading:\n",
    "\n",
    "* DCGAN\n",
    "* WGAN and WGAN-GP"
   ]
  }
 ],
 "metadata": {
  "kernelspec": {
   "display_name": "Python [conda env:keras_gpu_tensorflow]",
   "language": "python",
   "name": "conda-env-keras_gpu_tensorflow-py"
  },
  "language_info": {
   "codemirror_mode": {
    "name": "ipython",
    "version": 3
   },
   "file_extension": ".py",
   "mimetype": "text/x-python",
   "name": "python",
   "nbconvert_exporter": "python",
   "pygments_lexer": "ipython3",
   "version": "3.6.7"
  }
 },
 "nbformat": 4,
 "nbformat_minor": 2
}
